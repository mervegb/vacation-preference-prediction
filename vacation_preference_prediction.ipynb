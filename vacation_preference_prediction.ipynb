{
  "metadata": {
    "kernelspec": {
      "language": "python",
      "display_name": "Python 3",
      "name": "python3"
    },
    "language_info": {
      "name": "python",
      "version": "3.10.14",
      "mimetype": "text/x-python",
      "codemirror_mode": {
        "name": "ipython",
        "version": 3
      },
      "pygments_lexer": "ipython3",
      "nbconvert_exporter": "python",
      "file_extension": ".py"
    },
    "kaggle": {
      "accelerator": "none",
      "dataSources": [
        {
          "sourceId": 9706091,
          "sourceType": "datasetVersion",
          "datasetId": 5936188
        }
      ],
      "dockerImageVersionId": 30786,
      "isInternetEnabled": false,
      "language": "python",
      "sourceType": "notebook",
      "isGpuEnabled": false
    },
    "colab": {
      "name": "vacation preference prediction",
      "provenance": [],
      "include_colab_link": true
    }
  },
  "nbformat_minor": 0,
  "nbformat": 4,
  "cells": [
    {
      "cell_type": "markdown",
      "metadata": {
        "id": "view-in-github",
        "colab_type": "text"
      },
      "source": [
        "<a href=\"https://colab.research.google.com/github/mervegb/vacation-preference-prediction/blob/main/vacation_preference_prediction.ipynb\" target=\"_parent\"><img src=\"https://colab.research.google.com/assets/colab-badge.svg\" alt=\"Open In Colab\"/></a>"
      ]
    },
    {
      "source": [
        "# IMPORTANT: RUN THIS CELL IN ORDER TO IMPORT YOUR KAGGLE DATA SOURCES,\n",
        "# THEN FEEL FREE TO DELETE THIS CELL.\n",
        "# NOTE: THIS NOTEBOOK ENVIRONMENT DIFFERS FROM KAGGLE'S PYTHON\n",
        "# ENVIRONMENT SO THERE MAY BE MISSING LIBRARIES USED BY YOUR\n",
        "# NOTEBOOK.\n",
        "import kagglehub\n",
        "jahnavipaliwal_mountains_vs_beaches_preference_path = kagglehub.dataset_download('jahnavipaliwal/mountains-vs-beaches-preference')\n",
        "\n",
        "print('Data source import complete.')\n"
      ],
      "metadata": {
        "id": "B0lJtebfBpTy"
      },
      "cell_type": "code",
      "outputs": [],
      "execution_count": null
    },
    {
      "cell_type": "code",
      "source": [
        "import pandas as pd\n",
        "import numpy as np\n",
        "import seaborn as sns\n",
        "import matplotlib.pyplot as plt"
      ],
      "metadata": {
        "_uuid": "8f2839f25d086af736a60e9eeb907d3b93b6e0e5",
        "_cell_guid": "b1076dfc-b9ad-4769-8c92-a6c4dae69d19",
        "execution": {
          "iopub.status.busy": "2024-10-28T21:24:27.375329Z",
          "iopub.execute_input": "2024-10-28T21:24:27.375802Z",
          "iopub.status.idle": "2024-10-28T21:24:28.755209Z",
          "shell.execute_reply.started": "2024-10-28T21:24:27.375755Z",
          "shell.execute_reply": "2024-10-28T21:24:28.75397Z"
        },
        "trusted": true,
        "id": "LCEbPPHwBpTz"
      },
      "execution_count": null,
      "outputs": []
    },
    {
      "cell_type": "code",
      "source": [
        "#For encoding categorical variables\n",
        "from sklearn.preprocessing import LabelEncoder, OneHotEncoder\n",
        "\n",
        "#For splitting data\n",
        "from sklearn.model_selection import train_test_split\n",
        "\n",
        "#Machine Learning models\n",
        "from sklearn.linear_model import LogisticRegression\n",
        "from sklearn.tree import DecisionTreeClassifier\n",
        "from sklearn.ensemble import RandomForestClassifier\n",
        "\n",
        "#Model evaluation\n",
        "from sklearn.metrics import accuracy_score, classification_report, confusion_matrix\n",
        "\n",
        "#For hyperparameter tuning\n",
        "from sklearn.model_selection import GridSearchCV"
      ],
      "metadata": {
        "execution": {
          "iopub.status.busy": "2024-10-28T21:24:28.75741Z",
          "iopub.execute_input": "2024-10-28T21:24:28.758089Z",
          "iopub.status.idle": "2024-10-28T21:24:29.231025Z",
          "shell.execute_reply.started": "2024-10-28T21:24:28.758032Z",
          "shell.execute_reply": "2024-10-28T21:24:29.22988Z"
        },
        "trusted": true,
        "id": "opBG2C4OBpTz"
      },
      "execution_count": null,
      "outputs": []
    },
    {
      "cell_type": "code",
      "source": [
        "data = pd.read_csv('/kaggle/input/mountains-vs-beaches-preference/mountains_vs_beaches_preferences.csv')\n",
        "\n",
        "#Display the first 5 rows\n",
        "data.head()"
      ],
      "metadata": {
        "execution": {
          "iopub.status.busy": "2024-10-28T21:24:29.232307Z",
          "iopub.execute_input": "2024-10-28T21:24:29.232654Z",
          "iopub.status.idle": "2024-10-28T21:24:29.40645Z",
          "shell.execute_reply.started": "2024-10-28T21:24:29.232619Z",
          "shell.execute_reply": "2024-10-28T21:24:29.405389Z"
        },
        "trusted": true,
        "id": "thX1r6qRBpTz",
        "outputId": "be609349-3b22-4756-ccdc-fe7a738b9d94"
      },
      "execution_count": null,
      "outputs": [
        {
          "execution_count": 4,
          "output_type": "execute_result",
          "data": {
            "text/plain": "   Age      Gender  Income Education_Level  Travel_Frequency  \\\n0   56        male   71477        bachelor                 9   \n1   69        male   88740          master                 1   \n2   46      female   46562          master                 0   \n3   32  non-binary   99044     high school                 6   \n4   60      female  106583     high school                 5   \n\n  Preferred_Activities  Vacation_Budget  Location  Proximity_to_Mountains  \\\n0               skiing             2477     urban                     175   \n1             swimming             4777  suburban                     228   \n2               skiing             1469     urban                      71   \n3               hiking             1482     rural                      31   \n4           sunbathing              516  suburban                      23   \n\n   Proximity_to_Beaches Favorite_Season  Pets  Environmental_Concerns  \\\n0                   267          summer     0                       1   \n1                   190            fall     0                       1   \n2                   280          winter     0                       0   \n3                   255          summer     1                       0   \n4                   151          winter     1                       1   \n\n   Preference  \n0           1  \n1           0  \n2           1  \n3           1  \n4           0  ",
            "text/html": "<div>\n<style scoped>\n    .dataframe tbody tr th:only-of-type {\n        vertical-align: middle;\n    }\n\n    .dataframe tbody tr th {\n        vertical-align: top;\n    }\n\n    .dataframe thead th {\n        text-align: right;\n    }\n</style>\n<table border=\"1\" class=\"dataframe\">\n  <thead>\n    <tr style=\"text-align: right;\">\n      <th></th>\n      <th>Age</th>\n      <th>Gender</th>\n      <th>Income</th>\n      <th>Education_Level</th>\n      <th>Travel_Frequency</th>\n      <th>Preferred_Activities</th>\n      <th>Vacation_Budget</th>\n      <th>Location</th>\n      <th>Proximity_to_Mountains</th>\n      <th>Proximity_to_Beaches</th>\n      <th>Favorite_Season</th>\n      <th>Pets</th>\n      <th>Environmental_Concerns</th>\n      <th>Preference</th>\n    </tr>\n  </thead>\n  <tbody>\n    <tr>\n      <th>0</th>\n      <td>56</td>\n      <td>male</td>\n      <td>71477</td>\n      <td>bachelor</td>\n      <td>9</td>\n      <td>skiing</td>\n      <td>2477</td>\n      <td>urban</td>\n      <td>175</td>\n      <td>267</td>\n      <td>summer</td>\n      <td>0</td>\n      <td>1</td>\n      <td>1</td>\n    </tr>\n    <tr>\n      <th>1</th>\n      <td>69</td>\n      <td>male</td>\n      <td>88740</td>\n      <td>master</td>\n      <td>1</td>\n      <td>swimming</td>\n      <td>4777</td>\n      <td>suburban</td>\n      <td>228</td>\n      <td>190</td>\n      <td>fall</td>\n      <td>0</td>\n      <td>1</td>\n      <td>0</td>\n    </tr>\n    <tr>\n      <th>2</th>\n      <td>46</td>\n      <td>female</td>\n      <td>46562</td>\n      <td>master</td>\n      <td>0</td>\n      <td>skiing</td>\n      <td>1469</td>\n      <td>urban</td>\n      <td>71</td>\n      <td>280</td>\n      <td>winter</td>\n      <td>0</td>\n      <td>0</td>\n      <td>1</td>\n    </tr>\n    <tr>\n      <th>3</th>\n      <td>32</td>\n      <td>non-binary</td>\n      <td>99044</td>\n      <td>high school</td>\n      <td>6</td>\n      <td>hiking</td>\n      <td>1482</td>\n      <td>rural</td>\n      <td>31</td>\n      <td>255</td>\n      <td>summer</td>\n      <td>1</td>\n      <td>0</td>\n      <td>1</td>\n    </tr>\n    <tr>\n      <th>4</th>\n      <td>60</td>\n      <td>female</td>\n      <td>106583</td>\n      <td>high school</td>\n      <td>5</td>\n      <td>sunbathing</td>\n      <td>516</td>\n      <td>suburban</td>\n      <td>23</td>\n      <td>151</td>\n      <td>winter</td>\n      <td>1</td>\n      <td>1</td>\n      <td>0</td>\n    </tr>\n  </tbody>\n</table>\n</div>"
          },
          "metadata": {}
        }
      ]
    },
    {
      "cell_type": "code",
      "source": [
        "#Shape of the dataset\n",
        "print(f\"Dataset contains {data.shape[0]} rows and {data.shape[1]} columns\")\n",
        "\n",
        "data.info()"
      ],
      "metadata": {
        "execution": {
          "iopub.status.busy": "2024-10-28T21:24:29.408462Z",
          "iopub.execute_input": "2024-10-28T21:24:29.408835Z",
          "iopub.status.idle": "2024-10-28T21:24:29.453603Z",
          "shell.execute_reply.started": "2024-10-28T21:24:29.408798Z",
          "shell.execute_reply": "2024-10-28T21:24:29.451968Z"
        },
        "trusted": true,
        "id": "i3Whlv4oBpTz",
        "outputId": "43d205b9-b3ea-4900-bc31-ce5c8fd62673"
      },
      "execution_count": null,
      "outputs": [
        {
          "name": "stdout",
          "text": "Dataset contains 52444 rows and 14 columns\n<class 'pandas.core.frame.DataFrame'>\nRangeIndex: 52444 entries, 0 to 52443\nData columns (total 14 columns):\n #   Column                  Non-Null Count  Dtype \n---  ------                  --------------  ----- \n 0   Age                     52444 non-null  int64 \n 1   Gender                  52444 non-null  object\n 2   Income                  52444 non-null  int64 \n 3   Education_Level         52444 non-null  object\n 4   Travel_Frequency        52444 non-null  int64 \n 5   Preferred_Activities    52444 non-null  object\n 6   Vacation_Budget         52444 non-null  int64 \n 7   Location                52444 non-null  object\n 8   Proximity_to_Mountains  52444 non-null  int64 \n 9   Proximity_to_Beaches    52444 non-null  int64 \n 10  Favorite_Season         52444 non-null  object\n 11  Pets                    52444 non-null  int64 \n 12  Environmental_Concerns  52444 non-null  int64 \n 13  Preference              52444 non-null  int64 \ndtypes: int64(9), object(5)\nmemory usage: 5.6+ MB\n",
          "output_type": "stream"
        }
      ]
    },
    {
      "cell_type": "code",
      "source": [
        "#Check for missing values\n",
        "data.isnull().sum()"
      ],
      "metadata": {
        "execution": {
          "iopub.status.busy": "2024-10-28T21:24:29.45496Z",
          "iopub.execute_input": "2024-10-28T21:24:29.455329Z",
          "iopub.status.idle": "2024-10-28T21:24:29.479045Z",
          "shell.execute_reply.started": "2024-10-28T21:24:29.45529Z",
          "shell.execute_reply": "2024-10-28T21:24:29.477639Z"
        },
        "trusted": true,
        "id": "gml863gKBpTz",
        "outputId": "84c37f52-c894-48ef-f661-8c32cb3dc2ad"
      },
      "execution_count": null,
      "outputs": [
        {
          "execution_count": 6,
          "output_type": "execute_result",
          "data": {
            "text/plain": "Age                       0\nGender                    0\nIncome                    0\nEducation_Level           0\nTravel_Frequency          0\nPreferred_Activities      0\nVacation_Budget           0\nLocation                  0\nProximity_to_Mountains    0\nProximity_to_Beaches      0\nFavorite_Season           0\nPets                      0\nEnvironmental_Concerns    0\nPreference                0\ndtype: int64"
          },
          "metadata": {}
        }
      ]
    },
    {
      "cell_type": "code",
      "source": [
        "data.describe()"
      ],
      "metadata": {
        "execution": {
          "iopub.status.busy": "2024-10-28T21:24:47.626392Z",
          "iopub.execute_input": "2024-10-28T21:24:47.62684Z",
          "iopub.status.idle": "2024-10-28T21:24:47.686922Z",
          "shell.execute_reply.started": "2024-10-28T21:24:47.6268Z",
          "shell.execute_reply": "2024-10-28T21:24:47.685709Z"
        },
        "trusted": true,
        "id": "UgmyvXvaBpT0",
        "outputId": "6157a594-0fd8-4c22-9813-0a3ab22ab965"
      },
      "execution_count": null,
      "outputs": [
        {
          "execution_count": 7,
          "output_type": "execute_result",
          "data": {
            "text/plain": "                Age         Income  Travel_Frequency  Vacation_Budget  \\\ncount  52444.000000   52444.000000      52444.000000     52444.000000   \nmean      43.507360   70017.271280          4.489265      2741.799062   \nstd       14.985597   28847.560428          2.876130      1296.922423   \nmin       18.000000   20001.000000          0.000000       500.000000   \n25%       31.000000   45048.250000          2.000000      1622.000000   \n50%       43.000000   70167.000000          4.000000      2733.000000   \n75%       56.000000   95108.500000          7.000000      3869.000000   \nmax       69.000000  119999.000000          9.000000      4999.000000   \n\n       Proximity_to_Mountains  Proximity_to_Beaches          Pets  \\\ncount            52444.000000          52444.000000  52444.000000   \nmean               149.943502            149.888452      0.500858   \nstd                 86.548644             86.469248      0.500004   \nmin                  0.000000              0.000000      0.000000   \n25%                 75.000000             75.750000      0.000000   \n50%                150.000000            150.000000      1.000000   \n75%                225.000000            225.000000      1.000000   \nmax                299.000000            299.000000      1.000000   \n\n       Environmental_Concerns    Preference  \ncount            52444.000000  52444.000000  \nmean                 0.498436      0.250706  \nstd                  0.500002      0.433423  \nmin                  0.000000      0.000000  \n25%                  0.000000      0.000000  \n50%                  0.000000      0.000000  \n75%                  1.000000      1.000000  \nmax                  1.000000      1.000000  ",
            "text/html": "<div>\n<style scoped>\n    .dataframe tbody tr th:only-of-type {\n        vertical-align: middle;\n    }\n\n    .dataframe tbody tr th {\n        vertical-align: top;\n    }\n\n    .dataframe thead th {\n        text-align: right;\n    }\n</style>\n<table border=\"1\" class=\"dataframe\">\n  <thead>\n    <tr style=\"text-align: right;\">\n      <th></th>\n      <th>Age</th>\n      <th>Income</th>\n      <th>Travel_Frequency</th>\n      <th>Vacation_Budget</th>\n      <th>Proximity_to_Mountains</th>\n      <th>Proximity_to_Beaches</th>\n      <th>Pets</th>\n      <th>Environmental_Concerns</th>\n      <th>Preference</th>\n    </tr>\n  </thead>\n  <tbody>\n    <tr>\n      <th>count</th>\n      <td>52444.000000</td>\n      <td>52444.000000</td>\n      <td>52444.000000</td>\n      <td>52444.000000</td>\n      <td>52444.000000</td>\n      <td>52444.000000</td>\n      <td>52444.000000</td>\n      <td>52444.000000</td>\n      <td>52444.000000</td>\n    </tr>\n    <tr>\n      <th>mean</th>\n      <td>43.507360</td>\n      <td>70017.271280</td>\n      <td>4.489265</td>\n      <td>2741.799062</td>\n      <td>149.943502</td>\n      <td>149.888452</td>\n      <td>0.500858</td>\n      <td>0.498436</td>\n      <td>0.250706</td>\n    </tr>\n    <tr>\n      <th>std</th>\n      <td>14.985597</td>\n      <td>28847.560428</td>\n      <td>2.876130</td>\n      <td>1296.922423</td>\n      <td>86.548644</td>\n      <td>86.469248</td>\n      <td>0.500004</td>\n      <td>0.500002</td>\n      <td>0.433423</td>\n    </tr>\n    <tr>\n      <th>min</th>\n      <td>18.000000</td>\n      <td>20001.000000</td>\n      <td>0.000000</td>\n      <td>500.000000</td>\n      <td>0.000000</td>\n      <td>0.000000</td>\n      <td>0.000000</td>\n      <td>0.000000</td>\n      <td>0.000000</td>\n    </tr>\n    <tr>\n      <th>25%</th>\n      <td>31.000000</td>\n      <td>45048.250000</td>\n      <td>2.000000</td>\n      <td>1622.000000</td>\n      <td>75.000000</td>\n      <td>75.750000</td>\n      <td>0.000000</td>\n      <td>0.000000</td>\n      <td>0.000000</td>\n    </tr>\n    <tr>\n      <th>50%</th>\n      <td>43.000000</td>\n      <td>70167.000000</td>\n      <td>4.000000</td>\n      <td>2733.000000</td>\n      <td>150.000000</td>\n      <td>150.000000</td>\n      <td>1.000000</td>\n      <td>0.000000</td>\n      <td>0.000000</td>\n    </tr>\n    <tr>\n      <th>75%</th>\n      <td>56.000000</td>\n      <td>95108.500000</td>\n      <td>7.000000</td>\n      <td>3869.000000</td>\n      <td>225.000000</td>\n      <td>225.000000</td>\n      <td>1.000000</td>\n      <td>1.000000</td>\n      <td>1.000000</td>\n    </tr>\n    <tr>\n      <th>max</th>\n      <td>69.000000</td>\n      <td>119999.000000</td>\n      <td>9.000000</td>\n      <td>4999.000000</td>\n      <td>299.000000</td>\n      <td>299.000000</td>\n      <td>1.000000</td>\n      <td>1.000000</td>\n      <td>1.000000</td>\n    </tr>\n  </tbody>\n</table>\n</div>"
          },
          "metadata": {}
        }
      ]
    },
    {
      "cell_type": "code",
      "source": [
        "#Data Visualization\n",
        "\n",
        "#Age Distribution\n",
        "plt.figure(figsize=(10,6))\n",
        "sns.histplot(data[\"Age\"], bins=30, kde=True)\n",
        "plt.title(\"Age Distribution\")\n",
        "plt.xlabel(\"Age\")\n",
        "plt.ylabel(\"Frequency\")\n",
        "plt.show()"
      ],
      "metadata": {
        "execution": {
          "iopub.status.busy": "2024-10-28T21:26:38.411207Z",
          "iopub.execute_input": "2024-10-28T21:26:38.411623Z",
          "iopub.status.idle": "2024-10-28T21:26:39.067161Z",
          "shell.execute_reply.started": "2024-10-28T21:26:38.411584Z",
          "shell.execute_reply": "2024-10-28T21:26:39.065887Z"
        },
        "trusted": true,
        "id": "cvG1x0qlBpT0",
        "outputId": "d42f826d-d70d-49d9-dea2-2048b6961a7b"
      },
      "execution_count": null,
      "outputs": [
        {
          "name": "stderr",
          "text": "/opt/conda/lib/python3.10/site-packages/seaborn/_oldcore.py:1119: FutureWarning: use_inf_as_na option is deprecated and will be removed in a future version. Convert inf values to NaN before operating instead.\n  with pd.option_context('mode.use_inf_as_na', True):\n",
          "output_type": "stream"
        },
        {
          "output_type": "display_data",
          "data": {
            "text/plain": "<Figure size 1000x600 with 1 Axes>",
            "image/png": "[encoded data removed]"
          },
          "metadata": {}
        }
      ]
    }
  ]
}